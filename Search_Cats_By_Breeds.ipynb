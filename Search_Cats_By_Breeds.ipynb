{
 "cells": [
  {
   "cell_type": "code",
   "execution_count": null,
   "id": "3f4df009",
   "metadata": {},
   "outputs": [],
   "source": [
    "import requests\n",
    "from webbrowser import open_new_tab\n",
    "\n",
    "def _create_html_body(body, breed,breed_description): \n",
    "    file = open('index.html', 'w')\n",
    "\n",
    "    wrapper = \"\"\"\n",
    "        <html>\n",
    "            <head>\n",
    "            </head>\n",
    "            <body>\n",
    "                <h1>Cat Breed: {}</h1>\n",
    "                <h2>Description : {}</h2>\n",
    "                <hr />   \n",
    "                {}\n",
    "            </body>\n",
    "        </html>\n",
    "    \"\"\"\n",
    "\n",
    "    webpage = wrapper.format(breed,breed_description,body)\n",
    "    file.write(webpage)\n",
    "    file.close()\n",
    "\n",
    "    open_new_tab('http://localhost:8888/view/index.html')\n",
    "# Test Request\n",
    "name =input(\"enter the breed name\")\n",
    "url = \"https://api.thecatapi.com/v1/breeds/search\"\n",
    "querystring = {\"q\":name}\n",
    "headers = {'x-api-key': '8a6a9e79-eb9e-46ed-9cea-e92dcd5fcba3'}\n",
    "response = requests.request(\"GET\", url, headers=headers, params=querystring)\n",
    "if (response.status_code != 200):\n",
    "    print('Error with request')\n",
    "    exit(1)\n",
    "for dog in response.json():\n",
    "    id = dog['reference_image_id']\n",
    "    api_url = 'https://api.thecatapi.com/v1/images/{}'.format(id)\n",
    "    headers = {'x-api-key': '8a6a9e79-eb9e-46ed-9cea-e92dcd5fcba3'}\n",
    "    response_id = requests.request(\"GET\", api_url, headers=headers)\n",
    "    result_cat= response_id.json()\n",
    "    print(result_cat)\n",
    "    for cat in result_cat['breeds']:\n",
    "        breed_cat = (cat['name'])\n",
    "        breed_description = cat['description']\n",
    "        html_body = \" \"\n",
    "        html_body =  \"<br />\" + '<img src= \"'+ result_cat['url'] +'\"  width=\"50%\" max-width=\"620px\" >'\n",
    "        break\n",
    "    \n",
    "breed = breed_cat  \n",
    "_create_html_body(html_body, breed,breed_description)"
   ]
  }
 ],
 "metadata": {
  "kernelspec": {
   "display_name": "Python 3",
   "language": "python",
   "name": "python3"
  },
  "language_info": {
   "codemirror_mode": {
    "name": "ipython",
    "version": 3
   },
   "file_extension": ".py",
   "mimetype": "text/x-python",
   "name": "python",
   "nbconvert_exporter": "python",
   "pygments_lexer": "ipython3",
   "version": "3.8.8"
  }
 },
 "nbformat": 4,
 "nbformat_minor": 5
}
