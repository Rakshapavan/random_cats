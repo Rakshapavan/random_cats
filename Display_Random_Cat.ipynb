{
 "cells": [
  {
   "cell_type": "code",
   "execution_count": 4,
   "id": "4bb34d8e",
   "metadata": {},
   "outputs": [
    {
     "name": "stdout",
     "output_type": "stream",
     "text": [
      "[{'breeds': [], 'id': 'b7l', 'url': 'https://cdn2.thecatapi.com/images/b7l.jpg', 'width': 500, 'height': 333}]\n"
     ]
    }
   ],
   "source": [
    "import requests\n",
    "from webbrowser import open_new_tab\n",
    "def _create_html_body(body,breed): \n",
    "    file = open('index.html', 'w')\n",
    "\n",
    "    wrapper = \"\"\"\n",
    "        <html>\n",
    "            <head>\n",
    "\n",
    "            </head>\n",
    "            <body>\n",
    "                <h1>Random Display of {} </h1>\n",
    "                <hr /> \n",
    "                {}\n",
    "               \n",
    "            </body>\n",
    "        </html>\n",
    "\n",
    "    \"\"\"\n",
    "    webpage = wrapper.format(breed,body)\n",
    "    file.write(webpage)\n",
    "    file.close()\n",
    "\n",
    "    open_new_tab('http://localhost:8888/view/index.html')\n",
    "# Test Request\n",
    "result = requests.get('https://api.thecatapi.com/v1/images/search')\n",
    "if (result.status_code != 200):\n",
    "    print('Error with request')\n",
    "    exit(1)\n",
    "response = result.json()\n",
    "html_body = \"\"\n",
    "print(response)\n",
    "for dog in response:\n",
    "    html_body =  \"<br />\" + '<img src= \"'+ dog['url'] +'\"  width=\"50%\" max-width=\"620px\" >'\n",
    "    break\n",
    "breed = 'Cats' \n",
    "_create_html_body(html_body,breed)\n",
    "    "
   ]
  },
  {
   "cell_type": "code",
   "execution_count": null,
   "id": "a1243537",
   "metadata": {},
   "outputs": [],
   "source": []
  },
  {
   "cell_type": "code",
   "execution_count": null,
   "id": "d72b6d47",
   "metadata": {},
   "outputs": [],
   "source": []
  }
 ],
 "metadata": {
  "kernelspec": {
   "display_name": "Python 3",
   "language": "python",
   "name": "python3"
  },
  "language_info": {
   "codemirror_mode": {
    "name": "ipython",
    "version": 3
   },
   "file_extension": ".py",
   "mimetype": "text/x-python",
   "name": "python",
   "nbconvert_exporter": "python",
   "pygments_lexer": "ipython3",
   "version": "3.8.8"
  }
 },
 "nbformat": 4,
 "nbformat_minor": 5
}
