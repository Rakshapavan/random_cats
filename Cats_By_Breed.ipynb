{
 "cells": [
  {
   "cell_type": "code",
   "execution_count": 6,
   "id": "f64d2d88",
   "metadata": {},
   "outputs": [
    {
     "name": "stdout",
     "output_type": "stream",
     "text": [
      "enter the breed namehima\n",
      "{'id': 'CDhOtM-Ig', 'url': 'https://cdn2.thecatapi.com/images/CDhOtM-Ig.jpg', 'breeds': [{'weight': {'imperial': '7 - 14', 'metric': '3 - 6'}, 'id': 'hima', 'name': 'Himalayan', 'vetstreet_url': 'http://www.vetstreet.com/cats/himalayan', 'vcahospitals_url': 'https://vcahospitals.com/know-your-pet/cat-breeds/himalayan', 'temperament': 'Dependent, Gentle, Intelligent, Quiet, Social', 'origin': 'United States', 'country_codes': 'US', 'country_code': 'US', 'description': 'Calm and devoted, Himalayans make excellent companions, though they prefer a quieter home. They are playful in a sedate kind of way and enjoy having an assortment of toys. The Himalayan will stretch out next to you, sleep in your bed and even sit on your lap when she is in the mood.', 'life_span': '9 - 15', 'indoor': 0, 'lap': 1, 'alt_names': 'Himalayan Persian, Colourpoint Persian, Longhaired Colourpoint, Himmy', 'adaptability': 5, 'affection_level': 5, 'child_friendly': 2, 'dog_friendly': 2, 'energy_level': 1, 'grooming': 5, 'health_issues': 3, 'intelligence': 3, 'shedding_level': 4, 'social_needs': 4, 'stranger_friendly': 2, 'vocalisation': 1, 'experimental': 0, 'hairless': 0, 'natural': 0, 'rare': 0, 'rex': 0, 'suppressed_tail': 0, 'short_legs': 0, 'wikipedia_url': 'https://en.wikipedia.org/wiki/Himalayan_(cat)', 'hypoallergenic': 0, 'reference_image_id': 'CDhOtM-Ig'}], 'width': 1200, 'height': 961}\n"
     ]
    }
   ],
   "source": [
    "import requests\n",
    "from webbrowser import open_new_tab\n",
    "\n",
    "def _create_html_body(body, breed,breed_description): \n",
    "    file = open('index.html', 'w')\n",
    "\n",
    "    wrapper = \"\"\"\n",
    "        <html>\n",
    "            <head>\n",
    "            </head>\n",
    "            <body>\n",
    "                <h1>Cat Breed: {}</h1>\n",
    "                <h2>Description : {}</h2>\n",
    "                <hr />   \n",
    "                {}\n",
    "            </body>\n",
    "        </html>\n",
    "    \"\"\"\n",
    "\n",
    "    webpage = wrapper.format(breed,breed_description,body)\n",
    "    file.write(webpage)\n",
    "    file.close()\n",
    "\n",
    "    open_new_tab('http://localhost:8888/view/index.html')\n",
    "# Test Request\n",
    "name =input(\"enter the breed name\")\n",
    "url = \"https://api.thecatapi.com/v1/breeds/search\"\n",
    "querystring = {\"q\":name}\n",
    "headers = {'x-api-key': '8a6a9e79-eb9e-46ed-9cea-e92dcd5fcba3'}\n",
    "response = requests.request(\"GET\", url, headers=headers, params=querystring)\n",
    "if (response.status_code != 200):\n",
    "    print('Error with request')\n",
    "    exit(1)\n",
    "for dog in response.json():\n",
    "    id = dog['reference_image_id']\n",
    "    api_url = 'https://api.thecatapi.com/v1/images/{}'.format(id)\n",
    "    headers = {'x-api-key': '8a6a9e79-eb9e-46ed-9cea-e92dcd5fcba3'}\n",
    "    response_id = requests.request(\"GET\", api_url, headers=headers)\n",
    "    result_cat= response_id.json()\n",
    "    print(result_cat)\n",
    "    for cat in result_cat['breeds']:\n",
    "        breed_cat = (cat['name'])\n",
    "        breed_description = cat['description']\n",
    "        html_body = \" \"\n",
    "        html_body =  \"<br />\" + '<img src= \"'+ result_cat['url'] +'\"  width=\"50%\" max-width=\"620px\" >'\n",
    "        break\n",
    "    \n",
    "breed = breed_cat  \n",
    "_create_html_body(html_body, breed,breed_description)\n",
    "    "
   ]
  },
  {
   "cell_type": "code",
   "execution_count": null,
   "id": "52fccdfb",
   "metadata": {},
   "outputs": [],
   "source": []
  },
  {
   "cell_type": "code",
   "execution_count": null,
   "id": "20709344",
   "metadata": {},
   "outputs": [],
   "source": []
  }
 ],
 "metadata": {
  "kernelspec": {
   "display_name": "Python 3",
   "language": "python",
   "name": "python3"
  },
  "language_info": {
   "codemirror_mode": {
    "name": "ipython",
    "version": 3
   },
   "file_extension": ".py",
   "mimetype": "text/x-python",
   "name": "python",
   "nbconvert_exporter": "python",
   "pygments_lexer": "ipython3",
   "version": "3.8.8"
  }
 },
 "nbformat": 4,
 "nbformat_minor": 5
}
